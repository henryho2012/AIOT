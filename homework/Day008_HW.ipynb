{
 "cells": [
  {
   "cell_type": "markdown",
   "metadata": {},
   "source": [
    "# 作業： 使用 Python 操作 MongoDB"
   ]
  },
  {
   "cell_type": "markdown",
   "metadata": {},
   "source": [
    "# [作業目標]\n",
    "* 能夠使用 Python 對 MongoDB 的資料進行增刪改查操作。\n",
    "* 使用 Robo 3T 工具查看資料。"
   ]
  },
  {
   "cell_type": "markdown",
   "metadata": {},
   "source": [
    "# [作業重點]\n",
    "* 執行程式前，MongoDB Server 記得要先開啟。\n",
    "* 若 DB、Collection 原本不存在，則直到有第一筆資料 insert 進去，才會真的建立 DB 及 Collection"
   ]
  },
  {
   "cell_type": "markdown",
   "metadata": {},
   "source": [
    "# 作業1\n",
    "* 建立 DB 及 Collection (名稱自訂)，使用 Python 取得連線。"
   ]
  },
  {
   "cell_type": "code",
   "execution_count": 1,
   "metadata": {},
   "outputs": [],
   "source": [
    "from pymongo import MongoClient\n",
    "from flask import Flask, request\n",
    "\n",
    "\n",
    "# 連線 sever\n",
    "client = MongoClient(host='127.0.0.1', port=27017)\n",
    "# 連接資料庫\n",
    "db = client['mydb']\n",
    "# 指定集合\n",
    "collection = db['product']"
   ]
  },
  {
   "cell_type": "markdown",
   "metadata": {},
   "source": [
    "# 作業2\n",
    "* 使用 Python 操作 Mongo 中的資料。"
   ]
  },
  {
   "cell_type": "code",
   "execution_count": 2,
   "metadata": {},
   "outputs": [
    {
     "data": {
      "text/plain": [
       "<pymongo.results.InsertOneResult at 0x12ff8c462c8>"
      ]
     },
     "execution_count": 2,
     "metadata": {},
     "output_type": "execute_result"
    }
   ],
   "source": [
    "#1. 新增資料\n",
    "product1 = {\"name\": \"iphone10\", \"brand\": \"iphone\", \"price\": \"1200\"}\n",
    "product2 = {\"name\": \"iphone11\", \"brand\": \"iphone\", \"price\": \"1800\"}\n",
    "product3 = {\"name\": \"htc one\", \"brand\": \"htc\", \"price\": \"750\"}\n",
    "product4 = {\"name\": \"sony z1\", \"brand\": \"sony\", \"price\": \"800\"}\n",
    "\n",
    "\n",
    "collection.insert_one(product1)\n",
    "collection.insert_one(product2)\n",
    "collection.insert_one(product3)\n",
    "collection.insert_one(product4)"
   ]
  },
  {
   "cell_type": "code",
   "execution_count": 3,
   "metadata": {},
   "outputs": [
    {
     "name": "stdout",
     "output_type": "stream",
     "text": [
      "{'_id': ObjectId('5fdb55816a77b76f632654f1'), 'name': 'iphone10', 'brand': 'iphone', 'price': '1200'}\n",
      "{'_id': ObjectId('5fdb55816a77b76f632654f2'), 'name': 'iphone11', 'brand': 'iphone', 'price': '1800'}\n",
      "{'_id': ObjectId('5fdb55816a77b76f632654f3'), 'name': 'htc one', 'brand': 'htc', 'price': '750'}\n",
      "{'_id': ObjectId('5fdb55816a77b76f632654f4'), 'name': 'sony z1', 'brand': 'sony', 'price': '800'}\n",
      "{'_id': ObjectId('5fdb55816a77b76f632654f1'), 'name': 'iphone10', 'brand': 'iphone', 'price': '1200'}\n",
      "{'_id': ObjectId('5fdb55816a77b76f632654f2'), 'name': 'iphone11', 'brand': 'iphone', 'price': '1800'}\n",
      "{'_id': ObjectId('5fdb55816a77b76f632654f1'), 'name': 'iphone10', 'brand': 'iphone', 'price': '1200'}\n"
     ]
    }
   ],
   "source": [
    "#2. 查詢資料\n",
    "products = collection.find({}) # 不加入條件拿出所有資料\n",
    "for product in products:\n",
    "    print(product)\n",
    "    \n",
    "products = collection.find({\"brand\": \"iphone\"}) # 加入過濾條件，只拿出品牌(brand) 是 iphone 的資料\n",
    "for product in products:\n",
    "    print(product) \n",
    "\n",
    "product = collection.find_one({}) # 拿出一筆\n",
    "print(product)"
   ]
  },
  {
   "cell_type": "code",
   "execution_count": 4,
   "metadata": {},
   "outputs": [
    {
     "data": {
      "text/plain": [
       "<pymongo.results.UpdateResult at 0x12ff9312b88>"
      ]
     },
     "execution_count": 4,
     "metadata": {},
     "output_type": "execute_result"
    }
   ],
   "source": [
    "#3. 修改資料\n",
    "update_filter = {\"name\": \"sony z1\"} # 加入過濾條件\n",
    "update_data = {\"$set\": {\"price\" : \"680\"}} # 要更改成什麼資料\n",
    "\n",
    "collection.update_one(update_filter, update_data)"
   ]
  },
  {
   "cell_type": "code",
   "execution_count": 5,
   "metadata": {},
   "outputs": [
    {
     "data": {
      "text/plain": [
       "<pymongo.results.DeleteResult at 0x12ff933dd88>"
      ]
     },
     "execution_count": 5,
     "metadata": {},
     "output_type": "execute_result"
    }
   ],
   "source": [
    "#4. 刪除資料\n",
    "collection.delete_one({}) # 刪除一筆資料\n",
    "collection.delete_many({\"brand\": \"iphone\"}) # 刪除多筆，且條件為品牌(brand) 是 iphone 的皆會被刪除"
   ]
  },
  {
   "cell_type": "code",
   "execution_count": null,
   "metadata": {},
   "outputs": [],
   "source": []
  }
 ],
 "metadata": {
  "kernelspec": {
   "display_name": "Python [conda env:root] *",
   "language": "python",
   "name": "conda-root-py"
  },
  "language_info": {
   "codemirror_mode": {
    "name": "ipython",
    "version": 3
   },
   "file_extension": ".py",
   "mimetype": "text/x-python",
   "name": "python",
   "nbconvert_exporter": "python",
   "pygments_lexer": "ipython3",
   "version": "3.7.3"
  }
 },
 "nbformat": 4,
 "nbformat_minor": 4
}
